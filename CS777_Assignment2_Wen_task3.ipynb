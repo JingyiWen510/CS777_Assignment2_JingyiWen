{
  "nbformat": 4,
  "nbformat_minor": 0,
  "metadata": {
    "colab": {
      "name": "CS777_Assignment2_Wen_task3.ipynb",
      "provenance": []
    },
    "kernelspec": {
      "name": "python3",
      "display_name": "Python 3"
    }
  },
  "cells": [
    {
      "cell_type": "code",
      "metadata": {
        "id": "cIH8hXaj7pTR"
      },
      "source": [
        "import sys\r\n",
        "from pyspark import SparkContext\r\n",
        "\r\n",
        "sc = SparkContext ( )"
      ],
      "execution_count": 1,
      "outputs": []
    },
    {
      "cell_type": "code",
      "metadata": {
        "colab": {
          "base_uri": "https://localhost:8080/"
        },
        "id": "QYIZsnwIlgqz",
        "outputId": "d4de3414-a6ab-4245-d6ad-29727c2dac57"
      },
      "source": [
        "from pyspark.sql.types import *\r\n",
        "from pyspark.sql import SQLContext\r\n",
        "sqlContext = SQLContext(sc)\r\n",
        "\r\n",
        "wikiCategoryFile=\"gs://metcs777/wiki-categorylinks.csv.bz2\"\r\n",
        "wikiCategoryLinks=sc.textFile(wikiCategoryFile)\r\n",
        "wikiCats=wikiCategoryLinks.map(lambda x: x.split(\",\")).map(lambda x: (x[0].replace('\"',''), x[1].replace('\"','') ))\r\n",
        "df=sqlContext.createDataFrame(wikiCats)\r\n",
        "\r\n",
        "df.show()"
      ],
      "execution_count": 7,
      "outputs": [
        {
          "output_type": "stream",
          "text": [
            "+------+--------------------+\n",
            "|    _1|                  _2|\n",
            "+------+--------------------+\n",
            "|434042|   1987_debut_albums|\n",
            "|434042|Albums_produced_b...|\n",
            "|434042|Articles_with_hAu...|\n",
            "|434042|Articles_with_sho...|\n",
            "|434042|CS1_German-langua...|\n",
            "|434042|Cacophony_(band)_...|\n",
            "|434042| Jason_Becker_albums|\n",
            "|434042|Marty_Friedman_al...|\n",
            "|434042|Shrapnel_Records_...|\n",
            "|455070|All_articles_need...|\n",
            "|455070|All_articles_with...|\n",
            "|455070|Articles_needing_...|\n",
            "|455070|Articles_with_OS_...|\n",
            "|455070|Articles_with_dea...|\n",
            "|455070|Articles_with_dea...|\n",
            "|455070|Articles_with_per...|\n",
            "|455070|Borough_of_Broxbo...|\n",
            "|455070|            Cheshunt|\n",
            "|455070|Commons_category_...|\n",
            "|455070|Coordinates_on_Wi...|\n",
            "+------+--------------------+\n",
            "only showing top 20 rows\n",
            "\n"
          ],
          "name": "stdout"
        }
      ]
    },
    {
      "cell_type": "code",
      "metadata": {
        "colab": {
          "base_uri": "https://localhost:8080/"
        },
        "id": "PH8cw_ma74Bh",
        "outputId": "19a10e3f-d0c9-4bd2-c694-178f1aece47f"
      },
      "source": [
        "\"\"\"\r\n",
        "task3.1\r\n",
        "\"\"\"\r\n",
        "from pyspark.sql import functions as func\r\n",
        "from pyspark.sql import DataFrameStatFunctions as statFunc\r\n",
        "from pyspark.sql import functions as F\r\n",
        "from pyspark.sql.functions import mean as _mean, stddev as _stddev, col\r\n",
        "df_cate = df.groupBy (df[1]).count()\r\n",
        "max = df_cate.agg(func.max(\"count\")).show()\r\n",
        "avg = df_cate.agg(func.mean(\"count\")).show()\r\n",
        "med = F.expr('percentile_approx(count, 0.5)')\r\n",
        "median = df_cate.agg(med.alias('med(count)')).show()\r\n",
        "std = df_cate.select(_stddev(col('count')).alias('std')).show()"
      ],
      "execution_count": 8,
      "outputs": [
        {
          "output_type": "stream",
          "text": [
            "+----------+\n",
            "|max(count)|\n",
            "+----------+\n",
            "|       273|\n",
            "+----------+\n",
            "\n",
            "+------------------+\n",
            "|        avg(count)|\n",
            "+------------------+\n",
            "|1.9264644205228576|\n",
            "+------------------+\n",
            "\n",
            "+----------+\n",
            "|med(count)|\n",
            "+----------+\n",
            "|         1|\n",
            "+----------+\n",
            "\n",
            "+-----------------+\n",
            "|              std|\n",
            "+-----------------+\n",
            "|8.432165500551477|\n",
            "+-----------------+\n",
            "\n"
          ],
          "name": "stdout"
        }
      ]
    },
    {
      "cell_type": "code",
      "metadata": {
        "colab": {
          "base_uri": "https://localhost:8080/"
        },
        "id": "IhCvGwxArvNe",
        "outputId": "e92c888f-d485-4acc-9c12-cd92842cf936"
      },
      "source": [
        "\"\"\"\r\n",
        "task3.2\r\n",
        "\"\"\"\r\n",
        "top = df_cate.orderBy(\"count\",ascending=[0]).show(10)"
      ],
      "execution_count": 9,
      "outputs": [
        {
          "output_type": "stream",
          "text": [
            "+--------------------+-----+\n",
            "|                  _2|count|\n",
            "+--------------------+-----+\n",
            "|Articles_with_sho...|  273|\n",
            "|All_articles_with...|  222|\n",
            "|Wikipedia_article...|  212|\n",
            "|Wikipedia_article...|  212|\n",
            "|Wikipedia_article...|  196|\n",
            "|Commons_category_...|  178|\n",
            "|Wikipedia_article...|  157|\n",
            "|Wikipedia_article...|  155|\n",
            "|All_articles_need...|  154|\n",
            "|Webarchive_templa...|  140|\n",
            "+--------------------+-----+\n",
            "only showing top 10 rows\n",
            "\n"
          ],
          "name": "stdout"
        }
      ]
    },
    {
      "cell_type": "code",
      "metadata": {
        "colab": {
          "base_uri": "https://localhost:8080/"
        },
        "id": "ajpRUTKt5WvM",
        "outputId": "044d075b-08b1-4e5f-d3d4-898393d56396"
      },
      "source": [
        "\"\"\"\r\n",
        "task3.3\r\n",
        "\"\"\"\r\n",
        "top_cate = df_cate.orderBy(\"count\",ascending=[0]).limit(10)\r\n",
        "top_page = top_cate.join(df,df[1]==top_cate[0]).drop(\"count\")\r\n",
        "top_id = top_page.groupBy(top_page[1]).count()\r\n",
        "print(top_id.select(top_id[0]).show())\r\n",
        "\r\n"
      ],
      "execution_count": 27,
      "outputs": [
        {
          "output_type": "stream",
          "text": [
            "+------+\n",
            "|    _1|\n",
            "+------+\n",
            "|455070|\n",
            "|455790|\n",
            "|456150|\n",
            "|434000|\n",
            "|429031|\n",
            "|429164|\n",
            "|455361|\n",
            "|433488|\n",
            "|433664|\n",
            "|432147|\n",
            "|429110|\n",
            "|432184|\n",
            "|433593|\n",
            "|432097|\n",
            "|455880|\n",
            "|433663|\n",
            "|456310|\n",
            "|433824|\n",
            "|456234|\n",
            "|429135|\n",
            "+------+\n",
            "only showing top 20 rows\n",
            "\n",
            "None\n"
          ],
          "name": "stdout"
        }
      ]
    }
  ]
}